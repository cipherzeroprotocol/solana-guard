{
 "cells": [
  {
   "cell_type": "markdown",
   "id": "dd3dfef9",
   "metadata": {},
   "source": [
    "# Money Laundering Route Analysis Notebook\n",
    "\n",
    "This notebook demonstrates how to use SolanaGuard to identify and analyze money laundering routes on the Solana blockchain.\n",
    "\n",
    "## Overview\n",
    "\n",
    "Money laundering on Solana typically follows several patterns:\n",
    "1. **Layering**: Splitting and recombining funds through multiple wallets\n",
    "2. **Cross-chain bridges**: Moving assets to different blockchains to break traceability\n",
    "3. **Mixer services**: Using anonymization services to break the transaction trail\n",
    "4. **CEX hopping**: Depositing and withdrawing from different exchanges"
   ]
  },
  {
   "cell_type": "code",
   "execution_count": null,
   "id": "7e07d27d",
   "metadata": {},
   "outputs": [
    {
     "ename": "ModuleNotFoundError",
     "evalue": "No module named 'config'",
     "output_type": "error",
     "traceback": [
      "\u001b[1;31m---------------------------------------------------------------------------\u001b[0m",
      "\u001b[1;31mModuleNotFoundError\u001b[0m                       Traceback (most recent call last)",
      "Cell \u001b[1;32mIn[12], line 21\u001b[0m\n\u001b[0;32m     19\u001b[0m \u001b[38;5;28;01mfrom\u001b[39;00m \u001b[38;5;21;01manalysis\u001b[39;00m\u001b[38;5;21;01m.\u001b[39;00m\u001b[38;5;21;01mutils\u001b[39;00m\u001b[38;5;21;01m.\u001b[39;00m\u001b[38;5;21;01mgraph_utils\u001b[39;00m \u001b[38;5;28;01mimport\u001b[39;00m TransactionFlowGraph, build_money_laundering_graph, analyze_exfiltration_routes\n\u001b[0;32m     20\u001b[0m \u001b[38;5;28;01mfrom\u001b[39;00m \u001b[38;5;21;01manalysis\u001b[39;00m\u001b[38;5;21;01m.\u001b[39;00m\u001b[38;5;21;01mutils\u001b[39;00m\u001b[38;5;21;01m.\u001b[39;00m\u001b[38;5;21;01mrisk_scoring\u001b[39;00m \u001b[38;5;28;01mimport\u001b[39;00m calculate_address_risk\n\u001b[1;32m---> 21\u001b[0m \u001b[38;5;28;01mfrom\u001b[39;00m \u001b[38;5;21;01manalysis\u001b[39;00m\u001b[38;5;21;01m.\u001b[39;00m\u001b[38;5;21;01mutils\u001b[39;00m\u001b[38;5;21;01m.\u001b[39;00m\u001b[38;5;21;01mvisualization\u001b[39;00m \u001b[38;5;28;01mimport\u001b[39;00m visualize_money_laundering_routes\n\u001b[0;32m     23\u001b[0m \u001b[38;5;66;03m# Import collectors\u001b[39;00m\n\u001b[0;32m     24\u001b[0m \u001b[38;5;28;01mfrom\u001b[39;00m \u001b[38;5;21;01mdata_collection\u001b[39;00m\u001b[38;5;21;01m.\u001b[39;00m\u001b[38;5;21;01mcollectors\u001b[39;00m\u001b[38;5;21;01m.\u001b[39;00m\u001b[38;5;21;01mhelius_collector\u001b[39;00m \u001b[38;5;28;01mimport\u001b[39;00m HeliusCollector\n",
      "File \u001b[1;32mc:\\Users\\subas\\SolanaGuard\\analysis\\utils\\visualization.py:18\u001b[0m\n\u001b[0;32m     15\u001b[0m \u001b[38;5;28;01mimport\u001b[39;00m \u001b[38;5;21;01mseaborn\u001b[39;00m \u001b[38;5;28;01mas\u001b[39;00m \u001b[38;5;21;01msns\u001b[39;00m\n\u001b[0;32m     16\u001b[0m \u001b[38;5;28;01mfrom\u001b[39;00m \u001b[38;5;21;01mmatplotlib\u001b[39;00m\u001b[38;5;21;01m.\u001b[39;00m\u001b[38;5;21;01mcolors\u001b[39;00m \u001b[38;5;28;01mimport\u001b[39;00m LinearSegmentedColormap\n\u001b[1;32m---> 18\u001b[0m \u001b[38;5;28;01mfrom\u001b[39;00m \u001b[38;5;21;01mconfig\u001b[39;00m \u001b[38;5;28;01mimport\u001b[39;00m DATA_DIR\n\u001b[0;32m     20\u001b[0m logger \u001b[38;5;241m=\u001b[39m logging\u001b[38;5;241m.\u001b[39mgetLogger(\u001b[38;5;18m__name__\u001b[39m)\n\u001b[0;32m     22\u001b[0m \u001b[38;5;66;03m# Create visualization output directory\u001b[39;00m\n",
      "\u001b[1;31mModuleNotFoundError\u001b[0m: No module named 'config'"
     ]
    }
   ],
   "source": [
    "# Import required libraries\n",
    "import os\n",
    "import sys\n",
    "import json\n",
    "import pandas as pd\n",
    "import numpy as np\n",
    "import matplotlib.pyplot as plt\n",
    "import seaborn as sns\n",
    "import networkx as nx\n",
    "from datetime import datetime, timedelta\n",
    "\n",
    "# Add project root to Python path\n",
    "project_root = os.path.abspath(os.path.join(os.getcwd(), '../..'))\n",
    "if project_root not in sys.path:\n",
    "    sys.path.insert(0, project_root)\n",
    "\n",
    "# Import project config\n",
    "import config\n",
    "\n",
    "# Import SolanaGuard utilities with correct module path\n",
    "from analysis.utils.address_utils import classify_address, detect_money_laundering_patterns\n",
    "from analysis.utils.graph_utils import TransactionFlowGraph, build_money_laundering_graph, analyze_exfiltration_routes\n",
    "from analysis.utils.risk_scoring import calculate_address_risk\n",
    "from analysis.utils.visualization import visualize_money_laundering_routes\n",
    "\n",
    "# Import collectors\n",
    "from data_collection.collectors.helius_collector import HeliusCollector\n",
    "from data_collection.collectors.rugcheck_collector import RugCheckCollector\n",
    "from data_collection.collectors.vybe_collector import VybeCollector\n",
    "from data_collection.collectors.range_collector import RangeCollector\n",
    "\n",
    "# Configure plot style\n",
    "plt.style.use('ggplot')\n",
    "sns.set(style=\"whitegrid\")\n",
    "\n",
    "# Create output directories if they don't exist\n",
    "os.makedirs(config.DATA_DIR, exist_ok=True)\n",
    "os.makedirs(os.path.join(config.DATA_DIR, \"output\"), exist_ok=True)\n",
    "os.makedirs(os.path.join(config.DATA_DIR, \"visualizations\"), exist_ok=True)"
   ]
  },
  {
   "cell_type": "markdown",
   "id": "c7f5495a",
   "metadata": {},
   "source": [
    "## Initialize API Collectors\n",
    "\n",
    "First, we initialize the necessary API collectors to gather data from various sources:"
   ]
  },
  {
   "cell_type": "code",
   "execution_count": null,
   "id": "4a9bef3d",
   "metadata": {},
   "outputs": [
    {
     "name": "stderr",
     "output_type": "stream",
     "text": [
      "2025-04-25 00:29:55,726 - helius_collector - INFO - Initialized Helius collector\n",
      "2025-04-25 00:29:55,728 - range_collector - INFO - Initialized Range collector\n",
      "2025-04-25 00:29:55,730 - vybe_collector - INFO - Initialized Vybe collector\n",
      "2025-04-25 00:29:55,728 - range_collector - INFO - Initialized Range collector\n",
      "2025-04-25 00:29:55,730 - vybe_collector - INFO - Initialized Vybe collector\n"
     ]
    },
    {
     "name": "stdout",
     "output_type": "stream",
     "text": [
      "Collectors initialized successfully\n"
     ]
    }
   ],
   "source": [
    "# Initialize collectors - using try/except to handle potential API errors\n",
    "try:\n",
    "    helius = HeliusCollector()\n",
    "    range_api = RangeCollector()\n",
    "    vybe = VybeCollector()\n",
    "    \n",
    "    print(\"Collectors initialized successfully\")\n",
    "except Exception as e:\n",
    "    print(f\"Error initializing collectors: {e}\")"
   ]
  },
  {
   "cell_type": "markdown",
   "id": "a511bfa8",
   "metadata": {},
   "source": [
    "## Analyze Known Money Laundering Addresses\n",
    "\n",
    "Let's start by analyzing a few known high-risk addresses to establish baseline patterns:"
   ]
  },
  {
   "cell_type": "code",
   "execution_count": null,
   "id": "78986da5",
   "metadata": {},
   "outputs": [
    {
     "name": "stderr",
     "output_type": "stream",
     "text": [
      "2025-04-25 00:29:55,746 - range_collector - INFO - Getting risk score for EWuhy7xoH9AXtMwUGpg3wKVgtXqQJ6uGADDQPaczCgVJ on solana\n"
     ]
    },
    {
     "name": "stdout",
     "output_type": "stream",
     "text": [
      "\n",
      "Analyzing address: EWuhy7xoH9AXtMwUGpg3wKVgtXqQJ6uGADDQPaczCgVJ\n"
     ]
    },
    {
     "name": "stderr",
     "output_type": "stream",
     "text": [
      "2025-04-25 00:29:59,014 - range_collector - ERROR - Failed to make API request: 401 Client Error: Unauthorized for url: https://api.range.org/v1/risk/address?address=EWuhy7xoH9AXtMwUGpg3wKVgtXqQJ6uGADDQPaczCgVJ&network=solana\n",
      "2025-04-25 00:29:59,016 - helius_collector - INFO - Fetching transaction history for EWuhy7xoH9AXtMwUGpg3wKVgtXqQJ6uGADDQPaczCgVJ (limit: 100)\n",
      "2025-04-25 00:29:59,017 - helius_collector - INFO - Getting signatures for EWuhy7xoH9AXtMwUGpg3wKVgtXqQJ6uGADDQPaczCgVJ (limit: 100)\n",
      "2025-04-25 00:29:59,016 - helius_collector - INFO - Fetching transaction history for EWuhy7xoH9AXtMwUGpg3wKVgtXqQJ6uGADDQPaczCgVJ (limit: 100)\n",
      "2025-04-25 00:29:59,017 - helius_collector - INFO - Getting signatures for EWuhy7xoH9AXtMwUGpg3wKVgtXqQJ6uGADDQPaczCgVJ (limit: 100)\n",
      "2025-04-25 00:29:59,093 - helius_collector - ERROR - Failed to make RPC request: 401 Client Error: Unauthorized for url: https://mainnet.helius-rpc.com/?api-key=None\n",
      "2025-04-25 00:29:59,093 - helius_collector - ERROR - Failed to make RPC request: 401 Client Error: Unauthorized for url: https://mainnet.helius-rpc.com/?api-key=None\n",
      "2025-04-25 00:29:59,130 - helius_collector - INFO - Analyzing token transfers for EWuhy7xoH9AXtMwUGpg3wKVgtXqQJ6uGADDQPaczCgVJ\n",
      "2025-04-25 00:29:59,131 - helius_collector - INFO - Fetching transaction history for EWuhy7xoH9AXtMwUGpg3wKVgtXqQJ6uGADDQPaczCgVJ (limit: 100)\n",
      "2025-04-25 00:29:59,132 - helius_collector - INFO - Getting signatures for EWuhy7xoH9AXtMwUGpg3wKVgtXqQJ6uGADDQPaczCgVJ (limit: 100)\n",
      "2025-04-25 00:29:59,130 - helius_collector - INFO - Analyzing token transfers for EWuhy7xoH9AXtMwUGpg3wKVgtXqQJ6uGADDQPaczCgVJ\n",
      "2025-04-25 00:29:59,131 - helius_collector - INFO - Fetching transaction history for EWuhy7xoH9AXtMwUGpg3wKVgtXqQJ6uGADDQPaczCgVJ (limit: 100)\n",
      "2025-04-25 00:29:59,132 - helius_collector - INFO - Getting signatures for EWuhy7xoH9AXtMwUGpg3wKVgtXqQJ6uGADDQPaczCgVJ (limit: 100)\n"
     ]
    },
    {
     "name": "stdout",
     "output_type": "stream",
     "text": [
      "Error getting risk score: Request failed: 401 Client Error: Unauthorized for url: https://api.range.org/v1/risk/address?address=EWuhy7xoH9AXtMwUGpg3wKVgtXqQJ6uGADDQPaczCgVJ&network=solana\n",
      "Error fetching transaction history: Request failed: 401 Client Error: Unauthorized for url: https://mainnet.helius-rpc.com/?api-key=None\n"
     ]
    },
    {
     "name": "stderr",
     "output_type": "stream",
     "text": [
      "2025-04-25 00:29:59,260 - helius_collector - ERROR - Failed to make RPC request: 401 Client Error: Unauthorized for url: https://mainnet.helius-rpc.com/?api-key=None\n",
      "2025-04-25 00:29:59,261 - range_collector - INFO - Analyzing money laundering routes for EWuhy7xoH9AXtMwUGpg3wKVgtXqQJ6uGADDQPaczCgVJ\n",
      "2025-04-25 00:29:59,262 - range_collector - INFO - Getting risk score for EWuhy7xoH9AXtMwUGpg3wKVgtXqQJ6uGADDQPaczCgVJ on solana\n",
      "2025-04-25 00:29:59,261 - range_collector - INFO - Analyzing money laundering routes for EWuhy7xoH9AXtMwUGpg3wKVgtXqQJ6uGADDQPaczCgVJ\n",
      "2025-04-25 00:29:59,262 - range_collector - INFO - Getting risk score for EWuhy7xoH9AXtMwUGpg3wKVgtXqQJ6uGADDQPaczCgVJ on solana\n",
      "2025-04-25 00:29:59,407 - range_collector - ERROR - Failed to make API request: 401 Client Error: Unauthorized for url: https://api.range.org/v1/risk/address?address=EWuhy7xoH9AXtMwUGpg3wKVgtXqQJ6uGADDQPaczCgVJ&network=solana\n",
      "2025-04-25 00:29:59,408 - range_collector - WARNING - Failed to get risk score for EWuhy7xoH9AXtMwUGpg3wKVgtXqQJ6uGADDQPaczCgVJ: Request failed: 401 Client Error: Unauthorized for url: https://api.range.org/v1/risk/address?address=EWuhy7xoH9AXtMwUGpg3wKVgtXqQJ6uGADDQPaczCgVJ&network=solana\n",
      "2025-04-25 00:29:59,409 - range_collector - INFO - Getting transactions for EWuhy7xoH9AXtMwUGpg3wKVgtXqQJ6uGADDQPaczCgVJ on solana\n",
      "2025-04-25 00:29:59,407 - range_collector - ERROR - Failed to make API request: 401 Client Error: Unauthorized for url: https://api.range.org/v1/risk/address?address=EWuhy7xoH9AXtMwUGpg3wKVgtXqQJ6uGADDQPaczCgVJ&network=solana\n",
      "2025-04-25 00:29:59,408 - range_collector - WARNING - Failed to get risk score for EWuhy7xoH9AXtMwUGpg3wKVgtXqQJ6uGADDQPaczCgVJ: Request failed: 401 Client Error: Unauthorized for url: https://api.range.org/v1/risk/address?address=EWuhy7xoH9AXtMwUGpg3wKVgtXqQJ6uGADDQPaczCgVJ&network=solana\n",
      "2025-04-25 00:29:59,409 - range_collector - INFO - Getting transactions for EWuhy7xoH9AXtMwUGpg3wKVgtXqQJ6uGADDQPaczCgVJ on solana\n"
     ]
    },
    {
     "name": "stdout",
     "output_type": "stream",
     "text": [
      "Error analyzing token transfers: Request failed: 401 Client Error: Unauthorized for url: https://mainnet.helius-rpc.com/?api-key=None\n"
     ]
    },
    {
     "name": "stderr",
     "output_type": "stream",
     "text": [
      "2025-04-25 00:29:59,920 - range_collector - ERROR - Failed to make API request: 401 Client Error: Unauthorized for url: https://api.range.org/v1/address/transactions?address=EWuhy7xoH9AXtMwUGpg3wKVgtXqQJ6uGADDQPaczCgVJ&network=solana&limit=100&page=1\n",
      "2025-04-25 00:29:59,921 - range_collector - WARNING - Failed to get transactions for EWuhy7xoH9AXtMwUGpg3wKVgtXqQJ6uGADDQPaczCgVJ (page 1): Request failed: 401 Client Error: Unauthorized for url: https://api.range.org/v1/address/transactions?address=EWuhy7xoH9AXtMwUGpg3wKVgtXqQJ6uGADDQPaczCgVJ&network=solana&limit=100&page=1\n",
      "2025-04-25 00:29:59,923 - range_collector - INFO - Retrieved 0 transactions for EWuhy7xoH9AXtMwUGpg3wKVgtXqQJ6uGADDQPaczCgVJ\n",
      "2025-04-25 00:29:59,924 - range_collector - INFO - Getting counterparties for EWuhy7xoH9AXtMwUGpg3wKVgtXqQJ6uGADDQPaczCgVJ on solana\n",
      "2025-04-25 00:29:59,921 - range_collector - WARNING - Failed to get transactions for EWuhy7xoH9AXtMwUGpg3wKVgtXqQJ6uGADDQPaczCgVJ (page 1): Request failed: 401 Client Error: Unauthorized for url: https://api.range.org/v1/address/transactions?address=EWuhy7xoH9AXtMwUGpg3wKVgtXqQJ6uGADDQPaczCgVJ&network=solana&limit=100&page=1\n",
      "2025-04-25 00:29:59,923 - range_collector - INFO - Retrieved 0 transactions for EWuhy7xoH9AXtMwUGpg3wKVgtXqQJ6uGADDQPaczCgVJ\n",
      "2025-04-25 00:29:59,924 - range_collector - INFO - Getting counterparties for EWuhy7xoH9AXtMwUGpg3wKVgtXqQJ6uGADDQPaczCgVJ on solana\n",
      "2025-04-25 00:30:00,425 - range_collector - ERROR - Failed to make API request: 401 Client Error: Unauthorized for url: https://api.range.org/v1/address/counterparties?address=EWuhy7xoH9AXtMwUGpg3wKVgtXqQJ6uGADDQPaczCgVJ&network=solana\n",
      "2025-04-25 00:30:00,425 - range_collector - WARNING - Failed to get counterparties for EWuhy7xoH9AXtMwUGpg3wKVgtXqQJ6uGADDQPaczCgVJ: Request failed: 401 Client Error: Unauthorized for url: https://api.range.org/v1/address/counterparties?address=EWuhy7xoH9AXtMwUGpg3wKVgtXqQJ6uGADDQPaczCgVJ&network=solana\n",
      "2025-04-25 00:30:00,427 - range_collector - INFO - Identified 0 high-risk counterparties for EWuhy7xoH9AXtMwUGpg3wKVgtXqQJ6uGADDQPaczCgVJ\n",
      "2025-04-25 00:30:00,428 - range_collector - INFO - No suspicious transaction flows detected for EWuhy7xoH9AXtMwUGpg3wKVgtXqQJ6uGADDQPaczCgVJ\n",
      "2025-04-25 00:30:00,430 - range_collector - INFO - Getting risk score for DKZYkQzTq4UgQx8hK3YHyJjnhGckZbWUxWoFCzga7VdC on solana\n",
      "2025-04-25 00:30:00,425 - range_collector - ERROR - Failed to make API request: 401 Client Error: Unauthorized for url: https://api.range.org/v1/address/counterparties?address=EWuhy7xoH9AXtMwUGpg3wKVgtXqQJ6uGADDQPaczCgVJ&network=solana\n",
      "2025-04-25 00:30:00,425 - range_collector - WARNING - Failed to get counterparties for EWuhy7xoH9AXtMwUGpg3wKVgtXqQJ6uGADDQPaczCgVJ: Request failed: 401 Client Error: Unauthorized for url: https://api.range.org/v1/address/counterparties?address=EWuhy7xoH9AXtMwUGpg3wKVgtXqQJ6uGADDQPaczCgVJ&network=solana\n",
      "2025-04-25 00:30:00,427 - range_collector - INFO - Identified 0 high-risk counterparties for EWuhy7xoH9AXtMwUGpg3wKVgtXqQJ6uGADDQPaczCgVJ\n",
      "2025-04-25 00:30:00,428 - range_collector - INFO - No suspicious transaction flows detected for EWuhy7xoH9AXtMwUGpg3wKVgtXqQJ6uGADDQPaczCgVJ\n",
      "2025-04-25 00:30:00,430 - range_collector - INFO - Getting risk score for DKZYkQzTq4UgQx8hK3YHyJjnhGckZbWUxWoFCzga7VdC on solana\n"
     ]
    },
    {
     "name": "stdout",
     "output_type": "stream",
     "text": [
      "Detected 0 money laundering routes\n",
      "\n",
      "Analyzing address: DKZYkQzTq4UgQx8hK3YHyJjnhGckZbWUxWoFCzga7VdC\n"
     ]
    },
    {
     "name": "stderr",
     "output_type": "stream",
     "text": [
      "2025-04-25 00:30:00,933 - range_collector - ERROR - Failed to make API request: 401 Client Error: Unauthorized for url: https://api.range.org/v1/risk/address?address=DKZYkQzTq4UgQx8hK3YHyJjnhGckZbWUxWoFCzga7VdC&network=solana\n",
      "2025-04-25 00:30:00,935 - helius_collector - INFO - Fetching transaction history for DKZYkQzTq4UgQx8hK3YHyJjnhGckZbWUxWoFCzga7VdC (limit: 100)\n",
      "2025-04-25 00:30:00,936 - helius_collector - INFO - Getting signatures for DKZYkQzTq4UgQx8hK3YHyJjnhGckZbWUxWoFCzga7VdC (limit: 100)\n",
      "2025-04-25 00:30:00,935 - helius_collector - INFO - Fetching transaction history for DKZYkQzTq4UgQx8hK3YHyJjnhGckZbWUxWoFCzga7VdC (limit: 100)\n",
      "2025-04-25 00:30:00,936 - helius_collector - INFO - Getting signatures for DKZYkQzTq4UgQx8hK3YHyJjnhGckZbWUxWoFCzga7VdC (limit: 100)\n",
      "2025-04-25 00:30:00,970 - helius_collector - ERROR - Failed to make RPC request: 401 Client Error: Unauthorized for url: https://mainnet.helius-rpc.com/?api-key=None\n",
      "2025-04-25 00:30:00,972 - helius_collector - INFO - Analyzing token transfers for DKZYkQzTq4UgQx8hK3YHyJjnhGckZbWUxWoFCzga7VdC\n",
      "2025-04-25 00:30:00,972 - helius_collector - INFO - Fetching transaction history for DKZYkQzTq4UgQx8hK3YHyJjnhGckZbWUxWoFCzga7VdC (limit: 100)\n",
      "2025-04-25 00:30:00,973 - helius_collector - INFO - Getting signatures for DKZYkQzTq4UgQx8hK3YHyJjnhGckZbWUxWoFCzga7VdC (limit: 100)\n",
      "2025-04-25 00:30:00,970 - helius_collector - ERROR - Failed to make RPC request: 401 Client Error: Unauthorized for url: https://mainnet.helius-rpc.com/?api-key=None\n",
      "2025-04-25 00:30:00,972 - helius_collector - INFO - Analyzing token transfers for DKZYkQzTq4UgQx8hK3YHyJjnhGckZbWUxWoFCzga7VdC\n",
      "2025-04-25 00:30:00,972 - helius_collector - INFO - Fetching transaction history for DKZYkQzTq4UgQx8hK3YHyJjnhGckZbWUxWoFCzga7VdC (limit: 100)\n",
      "2025-04-25 00:30:00,973 - helius_collector - INFO - Getting signatures for DKZYkQzTq4UgQx8hK3YHyJjnhGckZbWUxWoFCzga7VdC (limit: 100)\n"
     ]
    },
    {
     "name": "stdout",
     "output_type": "stream",
     "text": [
      "Error getting risk score: Request failed: 401 Client Error: Unauthorized for url: https://api.range.org/v1/risk/address?address=DKZYkQzTq4UgQx8hK3YHyJjnhGckZbWUxWoFCzga7VdC&network=solana\n",
      "Error fetching transaction history: Request failed: 401 Client Error: Unauthorized for url: https://mainnet.helius-rpc.com/?api-key=None\n"
     ]
    },
    {
     "name": "stderr",
     "output_type": "stream",
     "text": [
      "2025-04-25 00:30:01,171 - helius_collector - ERROR - Failed to make RPC request: 401 Client Error: Unauthorized for url: https://mainnet.helius-rpc.com/?api-key=None\n",
      "2025-04-25 00:30:01,173 - range_collector - INFO - Analyzing money laundering routes for DKZYkQzTq4UgQx8hK3YHyJjnhGckZbWUxWoFCzga7VdC\n",
      "2025-04-25 00:30:01,173 - range_collector - INFO - Getting risk score for DKZYkQzTq4UgQx8hK3YHyJjnhGckZbWUxWoFCzga7VdC on solana\n",
      "2025-04-25 00:30:01,173 - range_collector - INFO - Analyzing money laundering routes for DKZYkQzTq4UgQx8hK3YHyJjnhGckZbWUxWoFCzga7VdC\n",
      "2025-04-25 00:30:01,173 - range_collector - INFO - Getting risk score for DKZYkQzTq4UgQx8hK3YHyJjnhGckZbWUxWoFCzga7VdC on solana\n"
     ]
    },
    {
     "name": "stdout",
     "output_type": "stream",
     "text": [
      "Error analyzing token transfers: Request failed: 401 Client Error: Unauthorized for url: https://mainnet.helius-rpc.com/?api-key=None\n"
     ]
    },
    {
     "name": "stderr",
     "output_type": "stream",
     "text": [
      "2025-04-25 00:30:01,411 - range_collector - ERROR - Failed to make API request: 401 Client Error: Unauthorized for url: https://api.range.org/v1/risk/address?address=DKZYkQzTq4UgQx8hK3YHyJjnhGckZbWUxWoFCzga7VdC&network=solana\n",
      "2025-04-25 00:30:01,413 - range_collector - WARNING - Failed to get risk score for DKZYkQzTq4UgQx8hK3YHyJjnhGckZbWUxWoFCzga7VdC: Request failed: 401 Client Error: Unauthorized for url: https://api.range.org/v1/risk/address?address=DKZYkQzTq4UgQx8hK3YHyJjnhGckZbWUxWoFCzga7VdC&network=solana\n",
      "2025-04-25 00:30:01,414 - range_collector - INFO - Getting transactions for DKZYkQzTq4UgQx8hK3YHyJjnhGckZbWUxWoFCzga7VdC on solana\n",
      "2025-04-25 00:30:01,413 - range_collector - WARNING - Failed to get risk score for DKZYkQzTq4UgQx8hK3YHyJjnhGckZbWUxWoFCzga7VdC: Request failed: 401 Client Error: Unauthorized for url: https://api.range.org/v1/risk/address?address=DKZYkQzTq4UgQx8hK3YHyJjnhGckZbWUxWoFCzga7VdC&network=solana\n",
      "2025-04-25 00:30:01,414 - range_collector - INFO - Getting transactions for DKZYkQzTq4UgQx8hK3YHyJjnhGckZbWUxWoFCzga7VdC on solana\n",
      "2025-04-25 00:30:01,927 - range_collector - ERROR - Failed to make API request: 401 Client Error: Unauthorized for url: https://api.range.org/v1/address/transactions?address=DKZYkQzTq4UgQx8hK3YHyJjnhGckZbWUxWoFCzga7VdC&network=solana&limit=100&page=1\n",
      "2025-04-25 00:30:01,928 - range_collector - WARNING - Failed to get transactions for DKZYkQzTq4UgQx8hK3YHyJjnhGckZbWUxWoFCzga7VdC (page 1): Request failed: 401 Client Error: Unauthorized for url: https://api.range.org/v1/address/transactions?address=DKZYkQzTq4UgQx8hK3YHyJjnhGckZbWUxWoFCzga7VdC&network=solana&limit=100&page=1\n",
      "2025-04-25 00:30:01,929 - range_collector - INFO - Retrieved 0 transactions for DKZYkQzTq4UgQx8hK3YHyJjnhGckZbWUxWoFCzga7VdC\n",
      "2025-04-25 00:30:01,929 - range_collector - INFO - Getting counterparties for DKZYkQzTq4UgQx8hK3YHyJjnhGckZbWUxWoFCzga7VdC on solana\n",
      "2025-04-25 00:30:01,927 - range_collector - ERROR - Failed to make API request: 401 Client Error: Unauthorized for url: https://api.range.org/v1/address/transactions?address=DKZYkQzTq4UgQx8hK3YHyJjnhGckZbWUxWoFCzga7VdC&network=solana&limit=100&page=1\n",
      "2025-04-25 00:30:01,928 - range_collector - WARNING - Failed to get transactions for DKZYkQzTq4UgQx8hK3YHyJjnhGckZbWUxWoFCzga7VdC (page 1): Request failed: 401 Client Error: Unauthorized for url: https://api.range.org/v1/address/transactions?address=DKZYkQzTq4UgQx8hK3YHyJjnhGckZbWUxWoFCzga7VdC&network=solana&limit=100&page=1\n",
      "2025-04-25 00:30:01,929 - range_collector - INFO - Retrieved 0 transactions for DKZYkQzTq4UgQx8hK3YHyJjnhGckZbWUxWoFCzga7VdC\n",
      "2025-04-25 00:30:01,929 - range_collector - INFO - Getting counterparties for DKZYkQzTq4UgQx8hK3YHyJjnhGckZbWUxWoFCzga7VdC on solana\n",
      "2025-04-25 00:30:02,415 - range_collector - ERROR - Failed to make API request: 401 Client Error: Unauthorized for url: https://api.range.org/v1/address/counterparties?address=DKZYkQzTq4UgQx8hK3YHyJjnhGckZbWUxWoFCzga7VdC&network=solana\n",
      "2025-04-25 00:30:02,415 - range_collector - WARNING - Failed to get counterparties for DKZYkQzTq4UgQx8hK3YHyJjnhGckZbWUxWoFCzga7VdC: Request failed: 401 Client Error: Unauthorized for url: https://api.range.org/v1/address/counterparties?address=DKZYkQzTq4UgQx8hK3YHyJjnhGckZbWUxWoFCzga7VdC&network=solana\n",
      "2025-04-25 00:30:02,416 - range_collector - INFO - Identified 0 high-risk counterparties for DKZYkQzTq4UgQx8hK3YHyJjnhGckZbWUxWoFCzga7VdC\n",
      "2025-04-25 00:30:02,417 - range_collector - INFO - No suspicious transaction flows detected for DKZYkQzTq4UgQx8hK3YHyJjnhGckZbWUxWoFCzga7VdC\n",
      "2025-04-25 00:30:02,419 - range_collector - INFO - Getting risk score for FkuEG9zVQggkDQUvkVWRHKjP2gRRX5BzQQJwmAUyuNJV on solana\n",
      "2025-04-25 00:30:02,415 - range_collector - ERROR - Failed to make API request: 401 Client Error: Unauthorized for url: https://api.range.org/v1/address/counterparties?address=DKZYkQzTq4UgQx8hK3YHyJjnhGckZbWUxWoFCzga7VdC&network=solana\n",
      "2025-04-25 00:30:02,415 - range_collector - WARNING - Failed to get counterparties for DKZYkQzTq4UgQx8hK3YHyJjnhGckZbWUxWoFCzga7VdC: Request failed: 401 Client Error: Unauthorized for url: https://api.range.org/v1/address/counterparties?address=DKZYkQzTq4UgQx8hK3YHyJjnhGckZbWUxWoFCzga7VdC&network=solana\n",
      "2025-04-25 00:30:02,416 - range_collector - INFO - Identified 0 high-risk counterparties for DKZYkQzTq4UgQx8hK3YHyJjnhGckZbWUxWoFCzga7VdC\n",
      "2025-04-25 00:30:02,417 - range_collector - INFO - No suspicious transaction flows detected for DKZYkQzTq4UgQx8hK3YHyJjnhGckZbWUxWoFCzga7VdC\n",
      "2025-04-25 00:30:02,419 - range_collector - INFO - Getting risk score for FkuEG9zVQggkDQUvkVWRHKjP2gRRX5BzQQJwmAUyuNJV on solana\n"
     ]
    },
    {
     "name": "stdout",
     "output_type": "stream",
     "text": [
      "Detected 0 money laundering routes\n",
      "\n",
      "Analyzing address: FkuEG9zVQggkDQUvkVWRHKjP2gRRX5BzQQJwmAUyuNJV\n"
     ]
    },
    {
     "name": "stderr",
     "output_type": "stream",
     "text": [
      "2025-04-25 00:30:02,928 - range_collector - ERROR - Failed to make API request: 401 Client Error: Unauthorized for url: https://api.range.org/v1/risk/address?address=FkuEG9zVQggkDQUvkVWRHKjP2gRRX5BzQQJwmAUyuNJV&network=solana\n",
      "2025-04-25 00:30:02,929 - helius_collector - INFO - Fetching transaction history for FkuEG9zVQggkDQUvkVWRHKjP2gRRX5BzQQJwmAUyuNJV (limit: 100)\n",
      "2025-04-25 00:30:02,930 - helius_collector - INFO - Getting signatures for FkuEG9zVQggkDQUvkVWRHKjP2gRRX5BzQQJwmAUyuNJV (limit: 100)\n",
      "2025-04-25 00:30:02,929 - helius_collector - INFO - Fetching transaction history for FkuEG9zVQggkDQUvkVWRHKjP2gRRX5BzQQJwmAUyuNJV (limit: 100)\n",
      "2025-04-25 00:30:02,930 - helius_collector - INFO - Getting signatures for FkuEG9zVQggkDQUvkVWRHKjP2gRRX5BzQQJwmAUyuNJV (limit: 100)\n",
      "2025-04-25 00:30:02,969 - helius_collector - ERROR - Failed to make RPC request: 401 Client Error: Unauthorized for url: https://mainnet.helius-rpc.com/?api-key=None\n",
      "2025-04-25 00:30:02,971 - helius_collector - INFO - Analyzing token transfers for FkuEG9zVQggkDQUvkVWRHKjP2gRRX5BzQQJwmAUyuNJV\n",
      "2025-04-25 00:30:02,972 - helius_collector - INFO - Fetching transaction history for FkuEG9zVQggkDQUvkVWRHKjP2gRRX5BzQQJwmAUyuNJV (limit: 100)\n",
      "2025-04-25 00:30:02,972 - helius_collector - INFO - Getting signatures for FkuEG9zVQggkDQUvkVWRHKjP2gRRX5BzQQJwmAUyuNJV (limit: 100)\n",
      "2025-04-25 00:30:02,969 - helius_collector - ERROR - Failed to make RPC request: 401 Client Error: Unauthorized for url: https://mainnet.helius-rpc.com/?api-key=None\n",
      "2025-04-25 00:30:02,971 - helius_collector - INFO - Analyzing token transfers for FkuEG9zVQggkDQUvkVWRHKjP2gRRX5BzQQJwmAUyuNJV\n",
      "2025-04-25 00:30:02,972 - helius_collector - INFO - Fetching transaction history for FkuEG9zVQggkDQUvkVWRHKjP2gRRX5BzQQJwmAUyuNJV (limit: 100)\n",
      "2025-04-25 00:30:02,972 - helius_collector - INFO - Getting signatures for FkuEG9zVQggkDQUvkVWRHKjP2gRRX5BzQQJwmAUyuNJV (limit: 100)\n"
     ]
    },
    {
     "name": "stdout",
     "output_type": "stream",
     "text": [
      "Error getting risk score: Request failed: 401 Client Error: Unauthorized for url: https://api.range.org/v1/risk/address?address=FkuEG9zVQggkDQUvkVWRHKjP2gRRX5BzQQJwmAUyuNJV&network=solana\n",
      "Error fetching transaction history: Request failed: 401 Client Error: Unauthorized for url: https://mainnet.helius-rpc.com/?api-key=None\n"
     ]
    },
    {
     "name": "stderr",
     "output_type": "stream",
     "text": [
      "2025-04-25 00:30:03,166 - helius_collector - ERROR - Failed to make RPC request: 401 Client Error: Unauthorized for url: https://mainnet.helius-rpc.com/?api-key=None\n",
      "2025-04-25 00:30:03,167 - range_collector - INFO - Analyzing money laundering routes for FkuEG9zVQggkDQUvkVWRHKjP2gRRX5BzQQJwmAUyuNJV\n",
      "2025-04-25 00:30:03,167 - range_collector - INFO - Getting risk score for FkuEG9zVQggkDQUvkVWRHKjP2gRRX5BzQQJwmAUyuNJV on solana\n",
      "2025-04-25 00:30:03,167 - range_collector - INFO - Analyzing money laundering routes for FkuEG9zVQggkDQUvkVWRHKjP2gRRX5BzQQJwmAUyuNJV\n",
      "2025-04-25 00:30:03,167 - range_collector - INFO - Getting risk score for FkuEG9zVQggkDQUvkVWRHKjP2gRRX5BzQQJwmAUyuNJV on solana\n"
     ]
    },
    {
     "name": "stdout",
     "output_type": "stream",
     "text": [
      "Error analyzing token transfers: Request failed: 401 Client Error: Unauthorized for url: https://mainnet.helius-rpc.com/?api-key=None\n"
     ]
    },
    {
     "name": "stderr",
     "output_type": "stream",
     "text": [
      "2025-04-25 00:30:03,417 - range_collector - ERROR - Failed to make API request: 401 Client Error: Unauthorized for url: https://api.range.org/v1/risk/address?address=FkuEG9zVQggkDQUvkVWRHKjP2gRRX5BzQQJwmAUyuNJV&network=solana\n",
      "2025-04-25 00:30:03,418 - range_collector - WARNING - Failed to get risk score for FkuEG9zVQggkDQUvkVWRHKjP2gRRX5BzQQJwmAUyuNJV: Request failed: 401 Client Error: Unauthorized for url: https://api.range.org/v1/risk/address?address=FkuEG9zVQggkDQUvkVWRHKjP2gRRX5BzQQJwmAUyuNJV&network=solana\n",
      "2025-04-25 00:30:03,420 - range_collector - INFO - Getting transactions for FkuEG9zVQggkDQUvkVWRHKjP2gRRX5BzQQJwmAUyuNJV on solana\n",
      "2025-04-25 00:30:03,418 - range_collector - WARNING - Failed to get risk score for FkuEG9zVQggkDQUvkVWRHKjP2gRRX5BzQQJwmAUyuNJV: Request failed: 401 Client Error: Unauthorized for url: https://api.range.org/v1/risk/address?address=FkuEG9zVQggkDQUvkVWRHKjP2gRRX5BzQQJwmAUyuNJV&network=solana\n",
      "2025-04-25 00:30:03,420 - range_collector - INFO - Getting transactions for FkuEG9zVQggkDQUvkVWRHKjP2gRRX5BzQQJwmAUyuNJV on solana\n",
      "2025-04-25 00:30:03,913 - range_collector - ERROR - Failed to make API request: 401 Client Error: Unauthorized for url: https://api.range.org/v1/address/transactions?address=FkuEG9zVQggkDQUvkVWRHKjP2gRRX5BzQQJwmAUyuNJV&network=solana&limit=100&page=1\n",
      "2025-04-25 00:30:03,914 - range_collector - WARNING - Failed to get transactions for FkuEG9zVQggkDQUvkVWRHKjP2gRRX5BzQQJwmAUyuNJV (page 1): Request failed: 401 Client Error: Unauthorized for url: https://api.range.org/v1/address/transactions?address=FkuEG9zVQggkDQUvkVWRHKjP2gRRX5BzQQJwmAUyuNJV&network=solana&limit=100&page=1\n",
      "2025-04-25 00:30:03,916 - range_collector - INFO - Retrieved 0 transactions for FkuEG9zVQggkDQUvkVWRHKjP2gRRX5BzQQJwmAUyuNJV\n",
      "2025-04-25 00:30:03,917 - range_collector - INFO - Getting counterparties for FkuEG9zVQggkDQUvkVWRHKjP2gRRX5BzQQJwmAUyuNJV on solana\n",
      "2025-04-25 00:30:03,913 - range_collector - ERROR - Failed to make API request: 401 Client Error: Unauthorized for url: https://api.range.org/v1/address/transactions?address=FkuEG9zVQggkDQUvkVWRHKjP2gRRX5BzQQJwmAUyuNJV&network=solana&limit=100&page=1\n",
      "2025-04-25 00:30:03,914 - range_collector - WARNING - Failed to get transactions for FkuEG9zVQggkDQUvkVWRHKjP2gRRX5BzQQJwmAUyuNJV (page 1): Request failed: 401 Client Error: Unauthorized for url: https://api.range.org/v1/address/transactions?address=FkuEG9zVQggkDQUvkVWRHKjP2gRRX5BzQQJwmAUyuNJV&network=solana&limit=100&page=1\n",
      "2025-04-25 00:30:03,916 - range_collector - INFO - Retrieved 0 transactions for FkuEG9zVQggkDQUvkVWRHKjP2gRRX5BzQQJwmAUyuNJV\n",
      "2025-04-25 00:30:03,917 - range_collector - INFO - Getting counterparties for FkuEG9zVQggkDQUvkVWRHKjP2gRRX5BzQQJwmAUyuNJV on solana\n",
      "2025-04-25 00:30:04,414 - range_collector - ERROR - Failed to make API request: 401 Client Error: Unauthorized for url: https://api.range.org/v1/address/counterparties?address=FkuEG9zVQggkDQUvkVWRHKjP2gRRX5BzQQJwmAUyuNJV&network=solana\n",
      "2025-04-25 00:30:04,415 - range_collector - WARNING - Failed to get counterparties for FkuEG9zVQggkDQUvkVWRHKjP2gRRX5BzQQJwmAUyuNJV: Request failed: 401 Client Error: Unauthorized for url: https://api.range.org/v1/address/counterparties?address=FkuEG9zVQggkDQUvkVWRHKjP2gRRX5BzQQJwmAUyuNJV&network=solana\n",
      "2025-04-25 00:30:04,416 - range_collector - INFO - Identified 0 high-risk counterparties for FkuEG9zVQggkDQUvkVWRHKjP2gRRX5BzQQJwmAUyuNJV\n",
      "2025-04-25 00:30:04,416 - range_collector - INFO - No suspicious transaction flows detected for FkuEG9zVQggkDQUvkVWRHKjP2gRRX5BzQQJwmAUyuNJV\n",
      "2025-04-25 00:30:04,414 - range_collector - ERROR - Failed to make API request: 401 Client Error: Unauthorized for url: https://api.range.org/v1/address/counterparties?address=FkuEG9zVQggkDQUvkVWRHKjP2gRRX5BzQQJwmAUyuNJV&network=solana\n",
      "2025-04-25 00:30:04,415 - range_collector - WARNING - Failed to get counterparties for FkuEG9zVQggkDQUvkVWRHKjP2gRRX5BzQQJwmAUyuNJV: Request failed: 401 Client Error: Unauthorized for url: https://api.range.org/v1/address/counterparties?address=FkuEG9zVQggkDQUvkVWRHKjP2gRRX5BzQQJwmAUyuNJV&network=solana\n",
      "2025-04-25 00:30:04,416 - range_collector - INFO - Identified 0 high-risk counterparties for FkuEG9zVQggkDQUvkVWRHKjP2gRRX5BzQQJwmAUyuNJV\n",
      "2025-04-25 00:30:04,416 - range_collector - INFO - No suspicious transaction flows detected for FkuEG9zVQggkDQUvkVWRHKjP2gRRX5BzQQJwmAUyuNJV\n"
     ]
    },
    {
     "name": "stdout",
     "output_type": "stream",
     "text": [
      "Detected 0 money laundering routes\n"
     ]
    }
   ],
   "source": [
    "# Example addresses to analyze\n",
    "# These are real addresses associated with money laundering/hacks on Solana\n",
    "suspicious_addresses = [\n",
    "    \"EWuhy7xoH9AXtMwUGpg3wKVgtXqQJ6uGADDQPaczCgVJ\", # Wormhole Exploiter Address\n",
    "    \"DKZYkQzTq4UgQx8hK3YHyJjnhGckZbWUxWoFCzga7VdC\", # Mango Markets Exploiter Address\n",
    "    \"FkuEG9zVQggkDQUvkVWRHKjP2gRRX5BzQQJwmAUyuNJV\"  # Solend Exploiter Address\n",
    "]\n",
    "\n",
    "# Function to analyze a suspicious address\n",
    "def analyze_suspicious_address(address):\n",
    "    print(f\"\\nAnalyzing address: {address}\")\n",
    "    \n",
    "    # Step 1: Get basic risk information\n",
    "    try:\n",
    "        risk_info = range_api.get_address_risk_score(address)\n",
    "        print(f\"Risk score: {risk_info.get('risk_score', 'N/A')}\")\n",
    "    except Exception as e:\n",
    "        print(f\"Error getting risk score: {e}\")\n",
    "        risk_info = {}\n",
    "    \n",
    "    # Step 2: Get transaction history\n",
    "    try:\n",
    "        tx_history = helius.fetch_transaction_history(address, limit=100)\n",
    "        print(f\"Fetched {len(tx_history)} transactions\")\n",
    "    except Exception as e:\n",
    "        print(f\"Error fetching transaction history: {e}\")\n",
    "        tx_history = []\n",
    "    \n",
    "    # Step 3: Get token transfers\n",
    "    try:\n",
    "        token_transfers = helius.analyze_token_transfers(address, limit=100)\n",
    "        print(f\"Fetched {len(token_transfers)} token transfers\")\n",
    "    except Exception as e:\n",
    "        print(f\"Error analyzing token transfers: {e}\")\n",
    "        token_transfers = []\n",
    "    \n",
    "    # Step 4: Analyze money laundering routes\n",
    "    try:\n",
    "        ml_routes = range_api.analyze_money_laundering_routes(address)\n",
    "        print(f\"Detected {len(ml_routes)} money laundering routes\")\n",
    "    except Exception as e:\n",
    "        print(f\"Error analyzing money laundering routes: {e}\")\n",
    "        ml_routes = []\n",
    "    \n",
    "    results = {\n",
    "        \"address\": address,\n",
    "        \"risk_info\": risk_info,\n",
    "        \"tx_history\": tx_history,\n",
    "        \"token_transfers\": token_transfers,\n",
    "        \"ml_routes\": ml_routes\n",
    "    }\n",
    "    \n",
    "    return results\n",
    "\n",
    "# Analyze each address\n",
    "analysis_results = {}\n",
    "for address in suspicious_addresses:\n",
    "    analysis_results[address] = analyze_suspicious_address(address)"
   ]
  },
  {
   "cell_type": "markdown",
   "id": "105d30ce",
   "metadata": {},
   "source": [
    "## Identify Money Laundering Patterns\n",
    "\n",
    "Now that we have the data, let's identify specific money laundering patterns in the transaction history:"
   ]
  },
  {
   "cell_type": "code",
   "execution_count": null,
   "id": "03e66b71",
   "metadata": {},
   "outputs": [
    {
     "name": "stdout",
     "output_type": "stream",
     "text": [
      "\n",
      "Patterns detected for EWuhy7xoH9AXtMwUGpg3wKVgtXqQJ6uGADDQPaczCgVJ:\n",
      "\n",
      "Patterns detected for DKZYkQzTq4UgQx8hK3YHyJjnhGckZbWUxWoFCzga7VdC:\n",
      "\n",
      "Patterns detected for FkuEG9zVQggkDQUvkVWRHKjP2gRRX5BzQQJwmAUyuNJV:\n"
     ]
    }
   ],
   "source": [
    "# Identify money laundering patterns for each address\n",
    "ml_patterns = {}\n",
    "\n",
    "for address, data in analysis_results.items():\n",
    "    ml_patterns[address] = detect_money_laundering_patterns(\n",
    "        address,\n",
    "        data[\"tx_history\"],\n",
    "        data[\"token_transfers\"],\n",
    "        data[\"risk_info\"],\n",
    "        data[\"ml_routes\"]\n",
    "    )\n",
    "    \n",
    "    # Display patterns detected\n",
    "    print(f\"\\nPatterns detected for {address}:\")\n",
    "    for pattern in ml_patterns[address][\"patterns\"]:\n",
    "        print(f\"- {pattern['type']}: {pattern['description']} (confidence: {pattern['confidence']:.2f})\")"
   ]
  },
  {
   "cell_type": "markdown",
   "id": "b082df4d",
   "metadata": {},
   "source": [
    "## Visualize Money Laundering Routes\n",
    "\n",
    "Let's visualize the money laundering routes for better understanding:"
   ]
  },
  {
   "cell_type": "code",
   "execution_count": null,
   "id": "a762cabe",
   "metadata": {},
   "outputs": [
    {
     "name": "stdout",
     "output_type": "stream",
     "text": [
      "\n",
      "No money laundering routes found for EWuhy7xoH9AXtMwUGpg3wKVgtXqQJ6uGADDQPaczCgVJ\n",
      "\n",
      "No money laundering routes found for DKZYkQzTq4UgQx8hK3YHyJjnhGckZbWUxWoFCzga7VdC\n",
      "\n",
      "No money laundering routes found for FkuEG9zVQggkDQUvkVWRHKjP2gRRX5BzQQJwmAUyuNJV\n"
     ]
    }
   ],
   "source": [
    "# Visualize money laundering routes for each address\n",
    "for address, data in analysis_results.items():\n",
    "    if data[\"ml_routes\"]:\n",
    "        # Build money laundering graph\n",
    "        ml_graph = build_money_laundering_graph(data[\"ml_routes\"])\n",
    "        \n",
    "        # Export graph to JSON for visualization\n",
    "        graph_data = ml_graph.export_to_json()\n",
    "        \n",
    "        # Save graph data for later use\n",
    "        with open(f\"../../data/output/ml_graph_{address}.json\", \"w\") as f:\n",
    "            json.dump(graph_data, f)\n",
    "        \n",
    "        # Visualize money laundering routes\n",
    "        viz_file = visualize_money_laundering_routes(\n",
    "            data[\"ml_routes\"],\n",
    "            output_file=f\"../../data/visualizations/ml_routes_{address}.png\"\n",
    "        )\n",
    "        \n",
    "        # Display visualization\n",
    "        if viz_file:\n",
    "            from IPython.display import Image\n",
    "            display(Image(filename=viz_file))\n",
    "        \n",
    "        # Analyze potential exfiltration routes\n",
    "        exfiltration_routes = analyze_exfiltration_routes(ml_graph, address)\n",
    "        \n",
    "        print(f\"\\nExfiltration routes for {address}:\")\n",
    "        for route in exfiltration_routes[:3]:  # Show top 3 routes\n",
    "            print(f\"- Route to {route['target_address']} (risk: {route['risk_score']})\")\n",
    "            print(f\"  Path: {' -> '.join([route['source_address']] + route['intermediate_addresses'] + [route['target_address']])}\")\n",
    "            print(f\"  Total volume: ${route['total_volume_usd']:.2f}\")\n",
    "    else:\n",
    "        print(f\"\\nNo money laundering routes found for {address}\")"
   ]
  },
  {
   "cell_type": "markdown",
   "id": "7bb5f0b4",
   "metadata": {},
   "source": [
    "## Calculate Risk Scores\n",
    "\n",
    "Let's calculate comprehensive risk scores for the addresses:"
   ]
  },
  {
   "cell_type": "code",
   "execution_count": null,
   "id": "fea18c1d",
   "metadata": {},
   "outputs": [
    {
     "name": "stdout",
     "output_type": "stream",
     "text": [
      "\n",
      "Risk assessment for EWuhy7xoH9AXtMwUGpg3wKVgtXqQJ6uGADDQPaczCgVJ:\n",
      "- Overall score: 0.00\n",
      "- Risk level: Unknown\n",
      "- Top risk factors:\n",
      "  * Placeholder Risk: No real risk evaluation available (score: 0)\n",
      "\n",
      "Risk assessment for DKZYkQzTq4UgQx8hK3YHyJjnhGckZbWUxWoFCzga7VdC:\n",
      "- Overall score: 0.00\n",
      "- Risk level: Unknown\n",
      "- Top risk factors:\n",
      "  * Placeholder Risk: No real risk evaluation available (score: 0)\n",
      "\n",
      "Risk assessment for FkuEG9zVQggkDQUvkVWRHKjP2gRRX5BzQQJwmAUyuNJV:\n",
      "- Overall score: 0.00\n",
      "- Risk level: Unknown\n",
      "- Top risk factors:\n",
      "  * Placeholder Risk: No real risk evaluation available (score: 0)\n"
     ]
    }
   ],
   "source": [
    "# Calculate risk scores for each address\n",
    "risk_scores = {}\n",
    "\n",
    "for address, data in analysis_results.items():\n",
    "    risk_scores[address] = calculate_address_risk(\n",
    "        address,\n",
    "        data[\"tx_history\"],\n",
    "        data[\"token_transfers\"],\n",
    "        data[\"risk_info\"],\n",
    "        data[\"ml_routes\"]\n",
    "    )\n",
    "    \n",
    "    # Display risk score and factors\n",
    "    print(f\"\\nRisk assessment for {address}:\")\n",
    "    print(f\"- Overall score: {risk_scores[address]['risk_score']:.2f}\")\n",
    "    print(f\"- Risk level: {risk_scores[address]['risk_level']}\")\n",
    "    print(\"- Top risk factors:\")\n",
    "    for factor in risk_scores[address]['risk_factors'][:3]:  # Show top 3 factors\n",
    "        print(f\"  * {factor['name']}: {factor['description']} (score: {factor['score']})\")"
   ]
  },
  {
   "cell_type": "markdown",
   "id": "b48169de",
   "metadata": {},
   "source": [
    "## Identify Related Addresses\n",
    "\n",
    "Let's identify other addresses that might be part of the same money laundering network:"
   ]
  },
  {
   "cell_type": "code",
   "execution_count": null,
   "id": "b7a066f9",
   "metadata": {},
   "outputs": [
    {
     "name": "stdout",
     "output_type": "stream",
     "text": [
      "\n",
      "Insufficient data to analyze the network for EWuhy7xoH9AXtMwUGpg3wKVgtXqQJ6uGADDQPaczCgVJ\n",
      "\n",
      "Insufficient data to analyze the network for DKZYkQzTq4UgQx8hK3YHyJjnhGckZbWUxWoFCzga7VdC\n",
      "\n",
      "Insufficient data to analyze the network for FkuEG9zVQggkDQUvkVWRHKjP2gRRX5BzQQJwmAUyuNJV\n"
     ]
    }
   ],
   "source": [
    "# Analyze transaction flows to find related addresses\n",
    "for address, data in analysis_results.items():\n",
    "    if data[\"token_transfers\"]:\n",
    "        # Create transaction flow graph\n",
    "        flow_graph = TransactionFlowGraph()\n",
    "        flow_graph.add_token_transfers(data[\"token_transfers\"])\n",
    "        \n",
    "        # Get graph centrality metrics\n",
    "        centrality = flow_graph.calculate_centrality()\n",
    "        \n",
    "        # Sort by centrality metrics to find important addresses\n",
    "        important_addresses = sorted(\n",
    "            [(node, metrics[\"pagerank\"]) for node, metrics in centrality.items()],\n",
    "            key=lambda x: x[1],\n",
    "            reverse=True\n",
    "        )[:10]  # Top 10 by PageRank\n",
    "        \n",
    "        print(f\"\\nImportant addresses in the network of {address}:\")\n",
    "        for addr, score in important_addresses:\n",
    "            if addr != address:  # Skip the original address\n",
    "                print(f\"- {addr} (centrality: {score:.4f})\")\n",
    "                \n",
    "        # Find communities\n",
    "        communities = flow_graph.identify_communities()\n",
    "        \n",
    "        print(f\"\\nDetected {len(communities)} communities in the network:\")\n",
    "        for comm_id, nodes in communities.items():\n",
    "            if address in nodes:  # Focus on communities containing our target address\n",
    "                print(f\"- Community {comm_id}: {len(nodes)} addresses\")\n",
    "                # Show a few example addresses (excluding our target)\n",
    "                example_nodes = [node for node in nodes[:5] if node != address]\n",
    "                if example_nodes:\n",
    "                    print(f\"  Examples: {', '.join(example_nodes)}\")\n",
    "    else:\n",
    "        print(f\"\\nInsufficient data to analyze the network for {address}\")"
   ]
  },
  {
   "cell_type": "markdown",
   "id": "07331f2c",
   "metadata": {},
   "source": [
    "## Conclusions and Report Generation\n",
    "\n",
    "Let's summarize our findings and generate a report:"
   ]
  },
  {
   "cell_type": "code",
   "execution_count": null,
   "id": "4db04398",
   "metadata": {},
   "outputs": [
    {
     "name": "stdout",
     "output_type": "stream",
     "text": [
      "\n",
      "Report generated and saved to ../../reports/money_laundering_report_20250425_003004.md\n"
     ]
    },
    {
     "data": {
      "text/markdown": [
       "# Money Laundering Analysis Report\n",
       "\n",
       "Generated on: 2025-04-25 00:30:04\n",
       "\n",
       "## Addresses Analyzed\n",
       "\n",
       "- **EWuhy7xoH9AXtMwUGpg3wKVgtXqQJ6uGADDQPaczCgVJ**: Risk Level: Unknown\n",
       "- **DKZYkQzTq4UgQx8hK3YHyJjnhGckZbWUxWoFCzga7VdC**: Risk Level: Unknown\n",
       "- **FkuEG9zVQggkDQUvkVWRHKjP2gRRX5BzQQJwmAUyuNJV**: Risk Level: Unknown\n",
       "\n",
       "## Analysis for EWuhy7xoH9AXtMwUGpg3wKVgtXqQJ6uGADDQPaczCgVJ\n",
       "\n",
       "### Risk Assessment\n",
       "\n",
       "- Overall risk score: 0.00\n",
       "- Risk level: Unknown\n",
       "\n",
       "#### Risk Factors\n",
       "\n",
       "- **Placeholder Risk**: No real risk evaluation available (score: 0)\n",
       "\n",
       "### Money Laundering Patterns\n",
       "\n",
       "No suspicious patterns detected for this address.\n",
       "\n",
       "### Money Laundering Routes\n",
       "\n",
       "No money laundering routes detected for this address.\n",
       "\n",
       "## Analysis for DKZYkQzTq4UgQx8hK3YHyJjnhGckZbWUxWoFCzga7VdC\n",
       "\n",
       "### Risk Assessment\n",
       "\n",
       "- Overall risk score: 0.00\n",
       "- Risk level: Unknown\n",
       "\n",
       "#### Risk Factors\n",
       "\n",
       "- **Placeholder Risk**: No real risk evaluation available (score: 0)\n",
       "\n",
       "### Money Laundering Patterns\n",
       "\n",
       "No suspicious patterns detected for this address.\n",
       "\n",
       "### Money Laundering Routes\n",
       "\n",
       "No money laundering routes detected for this address.\n",
       "\n",
       "## Analysis for FkuEG9zVQggkDQUvkVWRHKjP2gRRX5BzQQJwmAUyuNJV\n",
       "\n",
       "### Risk Assessment\n",
       "\n",
       "- Overall risk score: 0.00\n",
       "- Risk level: Unknown\n",
       "\n",
       "#### Risk Factors\n",
       "\n",
       "- **Placeholder Risk**: No real risk evaluation available (score: 0)\n",
       "\n",
       "### Money Laundering Patterns\n",
       "\n",
       "No suspicious patterns detected for this address.\n",
       "\n",
       "### Money Laundering Routes\n",
       "\n",
       "No money laundering routes detected for this address."
      ],
      "text/plain": [
       "<IPython.core.display.Markdown object>"
      ]
     },
     "metadata": {},
     "output_type": "display_data"
    }
   ],
   "source": [
    "# Generate summary report\n",
    "report = [\"# Money Laundering Analysis Report\\n\"]\n",
    "report.append(f\"Generated on: {datetime.now().strftime('%Y-%m-%d %H:%M:%S')}\\n\")\n",
    "\n",
    "report.append(\"## Addresses Analyzed\\n\")\n",
    "for address in suspicious_addresses:\n",
    "    risk_level = risk_scores[address]['risk_level'] if address in risk_scores else \"Unknown\"\n",
    "    report.append(f\"- **{address}**: Risk Level: {risk_level}\")\n",
    "\n",
    "for address in suspicious_addresses:\n",
    "    report.append(f\"\\n## Analysis for {address}\\n\")\n",
    "    \n",
    "    # Risk assessment\n",
    "    if address in risk_scores:\n",
    "        report.append(f\"### Risk Assessment\\n\")\n",
    "        report.append(f\"- Overall risk score: {risk_scores[address]['risk_score']:.2f}\")\n",
    "        report.append(f\"- Risk level: {risk_scores[address]['risk_level']}\\n\")\n",
    "        \n",
    "        report.append(\"#### Risk Factors\\n\")\n",
    "        for factor in risk_scores[address]['risk_factors']:\n",
    "            report.append(f\"- **{factor['name']}**: {factor['description']} (score: {factor['score']})\")\n",
    "    \n",
    "    # Money laundering patterns\n",
    "    if address in ml_patterns:\n",
    "        report.append(f\"\\n### Money Laundering Patterns\\n\")\n",
    "        \n",
    "        if ml_patterns[address][\"is_suspicious\"]:\n",
    "            report.append(\"This address shows suspicious transaction patterns:\\n\")\n",
    "            \n",
    "            for pattern in ml_patterns[address][\"patterns\"]:\n",
    "                report.append(f\"- **{pattern['type']}**: {pattern['description']} (confidence: {pattern['confidence']:.2f})\")\n",
    "        else:\n",
    "            report.append(\"No suspicious patterns detected for this address.\")\n",
    "    \n",
    "    # Money laundering routes\n",
    "    if address in analysis_results and analysis_results[address][\"ml_routes\"]:\n",
    "        report.append(f\"\\n### Money Laundering Routes\\n\")\n",
    "        \n",
    "        ml_routes = analysis_results[address][\"ml_routes\"]\n",
    "        report.append(f\"Detected {len(ml_routes)} potential money laundering routes:\\n\")\n",
    "        \n",
    "        for i, route in enumerate(ml_routes[:5], 1):\n",
    "            report.append(f\"#### Route {i}\\n\")\n",
    "            report.append(f\"- **From**: {route.get('source_address', 'Unknown')}\")\n",
    "            report.append(f\"- **To**: {route.get('target_address', 'Unknown')}\")\n",
    "            report.append(f\"- **Type**: {route.get('flow_type', 'Unknown')}\")\n",
    "            report.append(f\"- **Risk Score**: {route.get('risk_score', 'Unknown')}\")\n",
    "            report.append(f\"- **Amount**: ${route.get('amount_usd', 0):.2f}\\n\")\n",
    "            \n",
    "        report.append(f\"![Money Laundering Routes](../../data/visualizations/ml_routes_{address}.png)\")\n",
    "    else:\n",
    "        report.append(\"\\n### Money Laundering Routes\\n\")\n",
    "        report.append(\"No money laundering routes detected for this address.\")\n",
    "\n",
    "# Save report to file\n",
    "report_path = f\"../../reports/money_laundering_report_{datetime.now().strftime('%Y%m%d_%H%M%S')}.md\"\n",
    "os.makedirs(\"../../reports\", exist_ok=True)\n",
    "\n",
    "with open(report_path, \"w\") as f:\n",
    "    f.write(\"\\n\".join(report))\n",
    "\n",
    "print(f\"\\nReport generated and saved to {report_path}\")\n",
    "\n",
    "# Display report in notebook\n",
    "from IPython.display import Markdown\n",
    "display(Markdown(\"\\n\".join(report)))"
   ]
  }
 ],
 "metadata": {
  "kernelspec": {
   "display_name": "Python 3",
   "language": "python",
   "name": "python3"
  },
  "language_info": {
   "codemirror_mode": {
    "name": "ipython",
    "version": 3
   },
   "file_extension": ".py",
   "mimetype": "text/x-python",
   "name": "python",
   "nbconvert_exporter": "python",
   "pygments_lexer": "ipython3",
   "version": "3.12.3"
  }
 },
 "nbformat": 4,
 "nbformat_minor": 5
}
